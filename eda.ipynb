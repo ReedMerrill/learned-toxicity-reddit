{
 "cells": [
  {
   "cell_type": "code",
   "execution_count": 1,
   "metadata": {},
   "outputs": [],
   "source": [
    "import pandas as pd\n",
    "\n",
    "subreddits = pd.read_csv('reddit-politics-data/data/scores.csv')"
   ]
  },
  {
   "cell_type": "code",
   "execution_count": 2,
   "metadata": {},
   "outputs": [
    {
     "data": {
      "text/plain": [
       "Index(['community', 'age', 'age B', 'age neutral', 'affluence', 'gender',\n",
       "       'gender B', 'gender neutral', 'partisan B', 'partisan B neutral',\n",
       "       'partisan', 'partisan neutral', 'edginess', 'sociality', 'time'],\n",
       "      dtype='object')"
      ]
     },
     "execution_count": 2,
     "metadata": {},
     "output_type": "execute_result"
    }
   ],
   "source": [
    "subreddits.columns"
   ]
  },
  {
   "cell_type": "markdown",
   "metadata": {},
   "source": [
    "# Find The Most Political Subreddits\n",
    "\n",
    "This analysis is in service of the need to seed a sampling of Reddit users from those who post on political subreddits. The approach is to identify political subreddits and find those who comment on their top submissions. This approach would be skewed if the partisan leaning of each subreddit wasn't also considered. The code below identifies the most political subreddits from Anderson and Waller's 2021 article.\n",
    "\n",
    "## Which column measures Strength of Political Character?\n",
    "\n",
    "It is going to be the partisan column where all values are greater than zero."
   ]
  },
  {
   "cell_type": "code",
   "execution_count": 3,
   "metadata": {},
   "outputs": [
    {
     "data": {
      "text/html": [
       "<div>\n",
       "<style scoped>\n",
       "    .dataframe tbody tr th:only-of-type {\n",
       "        vertical-align: middle;\n",
       "    }\n",
       "\n",
       "    .dataframe tbody tr th {\n",
       "        vertical-align: top;\n",
       "    }\n",
       "\n",
       "    .dataframe thead th {\n",
       "        text-align: right;\n",
       "    }\n",
       "</style>\n",
       "<table border=\"1\" class=\"dataframe\">\n",
       "  <thead>\n",
       "    <tr style=\"text-align: right;\">\n",
       "      <th></th>\n",
       "      <th>partisan B</th>\n",
       "      <th>partisan B neutral</th>\n",
       "      <th>partisan</th>\n",
       "      <th>partisan neutral</th>\n",
       "    </tr>\n",
       "  </thead>\n",
       "  <tbody>\n",
       "    <tr>\n",
       "      <th>count</th>\n",
       "      <td>10006.000000</td>\n",
       "      <td>10006.000000</td>\n",
       "      <td>10006.000000</td>\n",
       "      <td>10006.000000</td>\n",
       "    </tr>\n",
       "    <tr>\n",
       "      <th>mean</th>\n",
       "      <td>0.028290</td>\n",
       "      <td>0.383592</td>\n",
       "      <td>0.005711</td>\n",
       "      <td>0.392440</td>\n",
       "    </tr>\n",
       "    <tr>\n",
       "      <th>std</th>\n",
       "      <td>0.091367</td>\n",
       "      <td>0.077514</td>\n",
       "      <td>0.075373</td>\n",
       "      <td>0.070149</td>\n",
       "    </tr>\n",
       "    <tr>\n",
       "      <th>min</th>\n",
       "      <td>-0.410791</td>\n",
       "      <td>0.138738</td>\n",
       "      <td>-0.345949</td>\n",
       "      <td>0.169756</td>\n",
       "    </tr>\n",
       "    <tr>\n",
       "      <th>25%</th>\n",
       "      <td>-0.028636</td>\n",
       "      <td>0.335984</td>\n",
       "      <td>-0.041398</td>\n",
       "      <td>0.346939</td>\n",
       "    </tr>\n",
       "    <tr>\n",
       "      <th>50%</th>\n",
       "      <td>0.027317</td>\n",
       "      <td>0.378829</td>\n",
       "      <td>0.009487</td>\n",
       "      <td>0.386434</td>\n",
       "    </tr>\n",
       "    <tr>\n",
       "      <th>75%</th>\n",
       "      <td>0.086356</td>\n",
       "      <td>0.421800</td>\n",
       "      <td>0.055559</td>\n",
       "      <td>0.429068</td>\n",
       "    </tr>\n",
       "    <tr>\n",
       "      <th>max</th>\n",
       "      <td>0.497002</td>\n",
       "      <td>0.813056</td>\n",
       "      <td>0.444171</td>\n",
       "      <td>0.760715</td>\n",
       "    </tr>\n",
       "  </tbody>\n",
       "</table>\n",
       "</div>"
      ],
      "text/plain": [
       "         partisan B  partisan B neutral      partisan  partisan neutral\n",
       "count  10006.000000        10006.000000  10006.000000      10006.000000\n",
       "mean       0.028290            0.383592      0.005711          0.392440\n",
       "std        0.091367            0.077514      0.075373          0.070149\n",
       "min       -0.410791            0.138738     -0.345949          0.169756\n",
       "25%       -0.028636            0.335984     -0.041398          0.346939\n",
       "50%        0.027317            0.378829      0.009487          0.386434\n",
       "75%        0.086356            0.421800      0.055559          0.429068\n",
       "max        0.497002            0.813056      0.444171          0.760715"
      ]
     },
     "execution_count": 3,
     "metadata": {},
     "output_type": "execute_result"
    }
   ],
   "source": [
    "partisan_mask = list(subreddits.columns.str.contains('partisan'))\n",
    "subreddits.loc[:, partisan_mask].describe()"
   ]
  },
  {
   "cell_type": "markdown",
   "metadata": {},
   "source": [
    "- \"partisan neutral\" and \"partisan B neutral\" are Anderson and Waller's measures of \"political-ness\" because they are the only partisan columns with values > 0.\n",
    "- I'll see how they compare when ranking subreddits.\n",
    "\n",
    "## Which subreddits are the most political?\n",
    "\n",
    "Sort the political-ness columns in descending order and print the top 20 results for both measures."
   ]
  },
  {
   "cell_type": "code",
   "execution_count": 4,
   "metadata": {},
   "outputs": [
    {
     "name": "stdout",
     "output_type": "stream",
     "text": [
      "List of the Most Political Subreddits\n",
      "                Measure A             Measure B\n",
      "0                 Liberal          WayOfTheBern\n",
      "1        askaconservative  Political_Revolution\n",
      "2              NeverTrump      HillaryForPrison\n",
      "3               democrats       Fuckthealtright\n",
      "4           conservatives          OurPresident\n",
      "5        liberalgunowners                 esist\n",
      "6   EnoughLibertarianSpam     MarchAgainstTrump\n",
      "7            Conservative        PoliticalHumor\n",
      "8             gunpolitics             Trumpgret\n",
      "9   ShitRConservativeSays              DNCleaks\n",
      "10            progressive          the_meltdown\n",
      "11             Republican         Impeach_Trump\n",
      "12                 progun  BannedFromThe_Donald\n",
      "13            republicans       media_criticism\n",
      "14        NeutralPolitics            The_Donald\n",
      "15                prolife        uncensorednews\n",
      "16    PoliticalDiscussion   SandersForPresident\n",
      "17            GunsAreCool       HillaryMeltdown\n",
      "18            AskALiberal             jillstein\n",
      "19       moderatepolitics           The_Mueller\n"
     ]
    }
   ],
   "source": [
    "# get top 20 most political subreddits from the two alternative measures\n",
    "most_political_subreddits_a = subreddits.sort_values(\"partisan neutral\", ascending=False).iloc[0:20].reset_index()\n",
    "most_political_subreddits_b = subreddits.sort_values(\"partisan B neutral\", ascending=False).iloc[0:20].reset_index()\n",
    "most_political_subreddits = pd.concat([most_political_subreddits_a.iloc[:, 1], most_political_subreddits_b.iloc[:, 1]], axis=1)\n",
    "most_political_subreddits.columns = ['Measure A', 'Measure B']\n",
    "print(\"List of the Most Political Subreddits\")\n",
    "print(most_political_subreddits)"
   ]
  },
  {
   "cell_type": "code",
   "execution_count": 5,
   "metadata": {},
   "outputs": [
    {
     "name": "stdout",
     "output_type": "stream",
     "text": [
      "Lists of the Most Partisan-segregated Subreddits\n",
      "           Dem Measure A    Rep Measure A     Dem Measure B     Rep Measure B\n",
      "0              democrats     Conservative    hillaryclinton    uncensorednews\n",
      "1  EnoughLibertarianSpam       The_Donald  themountaingoats        The_Donald\n",
      "2         hillaryclinton    TrueChristian  GrassrootsSelect           sjwhate\n",
      "3            progressive  NoFapChristians   FriendsofthePod   pussypassdenied\n",
      "4        BlueMidterm2018         Mr_Trump       blackladies      The_Congress\n",
      "5         EnoughHillHate       metacanada    ShitRedditSays  Physical_Removal\n",
      "6    Enough_Sanders_Spam    conservatives    goldredditsays     RedditCensors\n",
      "7       badwomensanatomy        new_right     FemmeThoughts   HillaryMeltdown\n",
      "8                 racism       The_Farage   hamiltonmusical   hottiesfortrump\n",
      "9            GunsAreCool       Christians        GamerGhazi       holdmyfries\n"
     ]
    }
   ],
   "source": [
    "# get the most partisan subreddits\n",
    "most_dem_subreddits_a = subreddits.sort_values(\"partisan\", ascending=True).iloc[0:10].reset_index()\n",
    "most_rep_subreddits_a = subreddits.sort_values(\"partisan\", ascending=False).iloc[0:10].reset_index()\n",
    "most_dem_subreddits_b = subreddits.sort_values(\"partisan B\", ascending=True).iloc[0:10].reset_index()\n",
    "most_rep_subreddits_b = subreddits.sort_values(\"partisan B\", ascending=False).iloc[0:10].reset_index()\n",
    "partisan_subreddits = pd.concat(\n",
    "    [most_dem_subreddits_a.iloc[:, 1],\n",
    "     most_rep_subreddits_a.iloc[:, 1],\n",
    "     most_dem_subreddits_b.iloc[:, 1],\n",
    "     most_rep_subreddits_b.iloc[:, 1]],\n",
    "    axis=1)\n",
    "partisan_subreddits.columns = ['Dem Measure A', 'Rep Measure A', 'Dem Measure B', 'Rep Measure B']\n",
    "print(\"Lists of the Most Partisan-segregated Subreddits\")\n",
    "print(partisan_subreddits)"
   ]
  },
  {
   "cell_type": "markdown",
   "metadata": {},
   "source": [
    "The two measures of politicalness produce very different lists of subreddits, which Anderson and Waller explain as an artifact of the subreddits used to seed the two community embeddings. The \"B\" score reflects a more Donald Trump focused dimension of partisanship (and politicalness). For generalizability, In general it will probably best to not use the \"B\" dimension in order to avoid undue focus on a single candidate -- note that much of the data is from before Trump was a political candidate. Mamakos and Finkel also conclude that many new users joined Reddit as a result of the Trump campaign leading up to the 2016 Presidential election.\n",
    "\n",
    "The partisan measures (\"partisan\" and \"partisan B\") measure how similar the membership of subreddits are to  the seed subreddits, which were used to determine a partisanship dimension by comparing communities that were similar except on the partisan dimension. The neutral measures, however, measure how political the discussions are that take place on each subreddit. As such, finding the most political conservative subreddit and pair it with the most political liberal subreddit, and then working down the list in this manner, will ensure relatively good representativeness of users from a wide range of the political spectrum.\n",
    "\n",
    "### Next Step:\n",
    "\n",
    "Test if how civil a community appears to be makes a difference in whether there are user who leave uncivil comments and posts:\n",
    "\n",
    "Gather data from:\n",
    "- Toxic Subreddits:\n",
    "    - liberal: r/Fuckthealtright\n",
    "    - conservative: r/\n",
    "\n",
    "- Civil Subreddits:\n",
    "    - liberal: r/democrats\n",
    "    - conservative: r/Republican\n",
    "\n",
    "Classify toxicity of user comments and make comparisons.\n",
    "\n",
    "This is, in itself, a useful exercize and might produce good findings."
   ]
  }
 ],
 "metadata": {
  "kernelspec": {
   "display_name": "reddit-scraper",
   "language": "python",
   "name": "python3"
  },
  "language_info": {
   "codemirror_mode": {
    "name": "ipython",
    "version": 3
   },
   "file_extension": ".py",
   "mimetype": "text/x-python",
   "name": "python",
   "nbconvert_exporter": "python",
   "pygments_lexer": "ipython3",
   "version": "3.10.13"
  }
 },
 "nbformat": 4,
 "nbformat_minor": 2
}
